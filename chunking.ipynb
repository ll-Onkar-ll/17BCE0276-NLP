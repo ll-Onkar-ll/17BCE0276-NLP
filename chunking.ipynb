{
 "cells": [
  {
   "cell_type": "code",
   "execution_count": 1,
   "metadata": {},
   "outputs": [],
   "source": [
    "import nltk"
   ]
  },
  {
   "cell_type": "code",
   "execution_count": 8,
   "metadata": {},
   "outputs": [
    {
     "name": "stdout",
     "output_type": "stream",
     "text": [
      "[('Ma', 'NNP'), ('was', 'VBD'), ('scrawny', 'JJ'), ('and', 'CC'), ('often', 'RB'), ('got', 'VBD'), ('into', 'IN'), ('fights', 'NNS'), ('with', 'IN'), ('classmates', 'NNS'), ('.', '.')]\n",
      "[('Ma', 'NNP'), ('told', 'VBD'), ('Bloomberg', 'NNP'), ('he', 'PRP'), ('knew', 'VBD'), ('Alibaba', 'NNP'), ('had', 'VBD'), ('made', 'VBN'), ('it', 'PRP'), ('big', 'JJ'), ('when', 'WRB'), ('another', 'DT'), ('customer', 'NN'), ('offered', 'VBD'), ('to', 'TO'), ('pay', 'VB'), ('his', 'PRP$'), ('restaurant', 'NN'), ('bill', 'NN'), ('.', '.')]\n"
     ]
    }
   ],
   "source": [
    "sentence1 = nltk.word_tokenize(\"Ma was scrawny and often got into fights with classmates.\")\n",
    "sentence1 = nltk.pos_tag(sentence1)\n",
    "print(sentence1)\n",
    "sentence2 = nltk.word_tokenize(\"Ma told Bloomberg he knew Alibaba had made it big when another customer offered to pay his restaurant bill.\")\n",
    "sentence2 = nltk.pos_tag(sentence2)\n",
    "print(sentence2)"
   ]
  },
  {
   "cell_type": "code",
   "execution_count": 20,
   "metadata": {},
   "outputs": [
    {
     "name": "stdout",
     "output_type": "stream",
     "text": [
      "(S\n",
      "  (NP Ma/NNP)\n",
      "  was/VBD\n",
      "  scrawny/JJ\n",
      "  and/CC\n",
      "  often/RB\n",
      "  got/VBD\n",
      "  into/IN\n",
      "  (NP fights/NNS)\n",
      "  with/IN\n",
      "  (NP classmates/NNS)\n",
      "  ./.)\n"
     ]
    }
   ],
   "source": [
    "rexp = \"NP: {<DT>?<JJ>*<NN.*>}\"\n",
    "parser = nltk.RegexpParser(rexp)\n",
    "chunks = parser.parse(sentence1)\n",
    "print(chunks)"
   ]
  },
  {
   "cell_type": "code",
   "execution_count": 21,
   "metadata": {},
   "outputs": [
    {
     "name": "stdout",
     "output_type": "stream",
     "text": [
      "(S\n",
      "  (NP Ma/NNP)\n",
      "  told/VBD\n",
      "  (NP Bloomberg/NNP)\n",
      "  he/PRP\n",
      "  knew/VBD\n",
      "  (NP Alibaba/NNP)\n",
      "  had/VBD\n",
      "  made/VBN\n",
      "  it/PRP\n",
      "  big/JJ\n",
      "  when/WRB\n",
      "  (NP another/DT customer/NN)\n",
      "  offered/VBD\n",
      "  to/TO\n",
      "  pay/VB\n",
      "  his/PRP$\n",
      "  (NP restaurant/NN)\n",
      "  (NP bill/NN)\n",
      "  ./.)\n"
     ]
    }
   ],
   "source": [
    "chunks = parser.parse(sentence2)\n",
    "print(chunks)"
   ]
  },
  {
   "cell_type": "code",
   "execution_count": 42,
   "metadata": {},
   "outputs": [
    {
     "name": "stdout",
     "output_type": "stream",
     "text": [
      "(S\n",
      "  Ma/NNP\n",
      "  was/VBD\n",
      "  scrawny/JJ\n",
      "  and/CC\n",
      "  often/RB\n",
      "  (VP got/VBD into/IN fights/NNS)\n",
      "  with/IN\n",
      "  classmates/NNS\n",
      "  ./.)\n"
     ]
    }
   ],
   "source": [
    "rexp = \"VP: {<VB.*><IN>?<DT>?<JJ>*<NN.*>}\"\n",
    "parser = nltk.RegexpParser(rexp)\n",
    "chunks = parser.parse(sentence1)\n",
    "print(chunks)"
   ]
  },
  {
   "cell_type": "code",
   "execution_count": 43,
   "metadata": {},
   "outputs": [
    {
     "name": "stdout",
     "output_type": "stream",
     "text": [
      "(S\n",
      "  Ma/NNP\n",
      "  (VP told/VBD Bloomberg/NNP)\n",
      "  he/PRP\n",
      "  (VP knew/VBD Alibaba/NNP)\n",
      "  had/VBD\n",
      "  made/VBN\n",
      "  it/PRP\n",
      "  big/JJ\n",
      "  when/WRB\n",
      "  another/DT\n",
      "  customer/NN\n",
      "  offered/VBD\n",
      "  to/TO\n",
      "  pay/VB\n",
      "  his/PRP$\n",
      "  restaurant/NN\n",
      "  bill/NN\n",
      "  ./.)\n"
     ]
    }
   ],
   "source": [
    "chunks = parser.parse(sentence2)\n",
    "print(chunks)"
   ]
  },
  {
   "cell_type": "code",
   "execution_count": null,
   "metadata": {},
   "outputs": [],
   "source": []
  }
 ],
 "metadata": {
  "kernelspec": {
   "display_name": "Python 3",
   "language": "python",
   "name": "python3"
  },
  "language_info": {
   "codemirror_mode": {
    "name": "ipython",
    "version": 3
   },
   "file_extension": ".py",
   "mimetype": "text/x-python",
   "name": "python",
   "nbconvert_exporter": "python",
   "pygments_lexer": "ipython3",
   "version": "3.7.5"
  }
 },
 "nbformat": 4,
 "nbformat_minor": 2
}
